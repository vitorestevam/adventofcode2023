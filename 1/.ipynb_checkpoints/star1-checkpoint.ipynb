{
 "cells": [
  {
   "cell_type": "code",
   "execution_count": 43,
   "id": "d2fe4c78-e2b5-4a96-864c-90a977a0e1cb",
   "metadata": {},
   "outputs": [],
   "source": [
    "import re\n",
    "import functools"
   ]
  },
  {
   "cell_type": "code",
   "execution_count": 76,
   "id": "3ddf0ecc-2385-47a1-85c9-802f7023df1f",
   "metadata": {},
   "outputs": [],
   "source": [
    "file = open(\"input.txt\", \"r\")\n",
    "codes = file.read().split(\"\\n\")\n",
    "numbers = list(map(lambda x: re.findall(r'\\d', x), codes))\n",
    "sum = list(map(lambda x:  x[0] + x[-1], numbers))\n",
    "totalSum = functools.reduce(lambda a, b: int(a)+int(b), sum)"
   ]
  },
  {
   "cell_type": "code",
   "execution_count": 77,
   "id": "1763589a-daa2-4342-9067-9a9d92e97750",
   "metadata": {},
   "outputs": [
    {
     "data": {
      "text/plain": [
       "54927"
      ]
     },
     "execution_count": 77,
     "metadata": {},
     "output_type": "execute_result"
    }
   ],
   "source": [
    "totalSum"
   ]
  }
 ],
 "metadata": {
  "kernelspec": {
   "display_name": "Python 3 (ipykernel)",
   "language": "python",
   "name": "python3"
  },
  "language_info": {
   "codemirror_mode": {
    "name": "ipython",
    "version": 3
   },
   "file_extension": ".py",
   "mimetype": "text/x-python",
   "name": "python",
   "nbconvert_exporter": "python",
   "pygments_lexer": "ipython3",
   "version": "3.11.6"
  }
 },
 "nbformat": 4,
 "nbformat_minor": 5
}
