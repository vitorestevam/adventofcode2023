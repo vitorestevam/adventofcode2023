{
 "cells": [
  {
   "cell_type": "code",
   "execution_count": 139,
   "id": "d2fe4c78-e2b5-4a96-864c-90a977a0e1cb",
   "metadata": {},
   "outputs": [],
   "source": [
    "import re\n",
    "import functools"
   ]
  },
  {
   "cell_type": "code",
   "execution_count": 226,
   "id": "7b119278-f442-4b73-a3b8-66f92cd1ba62",
   "metadata": {},
   "outputs": [],
   "source": [
    "expression = r'(?=(one|two|three|four|five|six|seven|eight|nine|\\d))'\n",
    "numbersMapping = {\n",
    "\"zero\":\"0\",\n",
    "\"one\": \"1\",\n",
    "\"two\": \"2\",\n",
    "\"three\": \"3\",\n",
    "\"four\": \"4\",\n",
    "\"five\": \"5\",\n",
    "\"six\":\"6\",\n",
    "\"seven\":\"7\",\n",
    "\"eight\":\"8\",\n",
    "\"nine\":\"9\", \n",
    "}"
   ]
  },
  {
   "cell_type": "code",
   "execution_count": 233,
   "id": "3ddf0ecc-2385-47a1-85c9-802f7023df1f",
   "metadata": {},
   "outputs": [],
   "source": [
    "file = open(\"input.txt\", \"r\")\n",
    "content = file.read()\n",
    "codes = content.split(\"\\n\")"
   ]
  },
  {
   "cell_type": "code",
   "execution_count": 234,
   "id": "ddd5799e-51f4-46ed-a621-3e82d5a0b86d",
   "metadata": {},
   "outputs": [
    {
     "data": {
      "text/plain": [
       "54581"
      ]
     },
     "execution_count": 234,
     "metadata": {},
     "output_type": "execute_result"
    }
   ],
   "source": [
    "codes_digits = list(map(lambda x: re.findall(expression, x), codes))\n",
    "for i in range(len(codes_digits)):\n",
    "    code_digits  = codes_digits[i]\n",
    "    codes_digits[i] = list(map(lambda x: numbersMapping[x] if x in numbersMapping.keys() else x, code_digits))\n",
    "\n",
    "sum = list(map(lambda x:  x[0] + x[-1], codes_digits))\n",
    "totalSum = functools.reduce(lambda a, b: int(a)+int(b), sum)\n",
    "totalSum"
   ]
  }
 ],
 "metadata": {
  "kernelspec": {
   "display_name": "Python 3 (ipykernel)",
   "language": "python",
   "name": "python3"
  },
  "language_info": {
   "codemirror_mode": {
    "name": "ipython",
    "version": 3
   },
   "file_extension": ".py",
   "mimetype": "text/x-python",
   "name": "python",
   "nbconvert_exporter": "python",
   "pygments_lexer": "ipython3",
   "version": "3.11.6"
  }
 },
 "nbformat": 4,
 "nbformat_minor": 5
}
