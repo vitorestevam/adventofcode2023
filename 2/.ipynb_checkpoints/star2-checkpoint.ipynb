{
 "cells": [
  {
   "cell_type": "code",
   "execution_count": 6,
   "id": "dbe4c182-f6a3-4a9d-84c7-df077392c167",
   "metadata": {},
   "outputs": [],
   "source": [
    "from functools import reduce"
   ]
  },
  {
   "cell_type": "code",
   "execution_count": 13,
   "id": "78e49ba6-adc3-426c-8109-8f200849dc90",
   "metadata": {},
   "outputs": [],
   "source": [
    "mocked_input = \"Game 1: 3 blue, 4 red; 1 red, 2 green, 6 blue; 2 green\\nGame 2: 1 blue, 2 green; 3 green, 4 blue, 1 red; 1 green, 1 blue\\nGame 3: 8 green, 6 blue, 20 red; 5 blue, 4 red, 13 green; 5 green, 1 red\\nGame 4: 1 green, 3 red, 6 blue; 3 green, 6 red; 3 green, 15 blue, 14 red\\nGame 5: 6 red, 1 blue, 3 green; 2 blue, 1 red, 2 green\"\n",
    "file = open(\"input.txt\", \"r\")\n",
    "games = file.read().split(\"\\n\")\n",
    "# games = mocked_input.split(\"\\n\")\n",
    "sum = 0"
   ]
  },
  {
   "cell_type": "code",
   "execution_count": 14,
   "id": "09dc6375-5cb9-4483-8201-f9b8208361ae",
   "metadata": {},
   "outputs": [
    {
     "data": {
      "text/plain": [
       "67363"
      ]
     },
     "execution_count": 14,
     "metadata": {},
     "output_type": "execute_result"
    }
   ],
   "source": [
    "for game in games:\n",
    "    valid = True\n",
    "    \n",
    "    game_id, game_turns = game.split(\":\")\n",
    "    game_turns = game_turns.split(\";\")\n",
    "    game_turns = list(map(lambda x: x.split(\",\"), game_turns))\n",
    "\n",
    "    max_value = {\n",
    "    \"blue\": 0,\n",
    "    \"green\": 0,\n",
    "    \"red\": 0\n",
    "    }\n",
    "\n",
    "    for turn in game_turns:\n",
    "        for color in turn:\n",
    "            value, name = color.split()\n",
    "            if(int(value.strip()) > int(max_value[name])): \n",
    "                max_value[name] = value\n",
    "\n",
    "    power = reduce(lambda x, y: int(x) * int(y), max_value.values())\n",
    "    sum += power\n",
    "\n",
    "sum"
   ]
  },
  {
   "cell_type": "code",
   "execution_count": null,
   "id": "752814a7-b3e4-4db2-a2db-59d28e50f260",
   "metadata": {},
   "outputs": [],
   "source": []
  }
 ],
 "metadata": {
  "kernelspec": {
   "display_name": "Python 3 (ipykernel)",
   "language": "python",
   "name": "python3"
  },
  "language_info": {
   "codemirror_mode": {
    "name": "ipython",
    "version": 3
   },
   "file_extension": ".py",
   "mimetype": "text/x-python",
   "name": "python",
   "nbconvert_exporter": "python",
   "pygments_lexer": "ipython3",
   "version": "3.11.6"
  }
 },
 "nbformat": 4,
 "nbformat_minor": 5
}
