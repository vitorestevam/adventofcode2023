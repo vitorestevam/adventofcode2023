{
 "cells": [
  {
   "cell_type": "code",
   "execution_count": 4,
   "metadata": {},
   "outputs": [],
   "source": [
    "import collections\n",
    "import functools"
   ]
  },
  {
   "cell_type": "code",
   "execution_count": 45,
   "metadata": {},
   "outputs": [],
   "source": [
    "input = \"\"\"32T3K 765\n",
    "T55J5 684\n",
    "KK677 28\n",
    "KTJJT 220\n",
    "QQQJA 483\"\"\"\n",
    "\n",
    "input = open(\"./input.txt\", \"r\").read()\n",
    "game = input.split(\"\\n\")\n",
    "\n",
    "game = list(map(lambda x: x.split(\" \"), game))\n",
    "\n",
    "for i in range(len(game)):\n",
    "    game[i].append(0) #add power field"
   ]
  },
  {
   "cell_type": "code",
   "execution_count": 46,
   "metadata": {},
   "outputs": [],
   "source": [
    "def has_pair(hand):\n",
    "    hand = collections.Counter(hand)\n",
    "\n",
    "    common = len(list(filter(lambda x: x[1] == 2, hand.items()))) == 1\n",
    "    joker = hand[\"J\"] == 1 \n",
    "    return common or joker\n",
    "\n",
    "def has_two_pairs(hand):\n",
    "    hand = collections.Counter(hand)\n",
    "    common = len(list(filter(lambda x: x[1] == 2, hand.items()))) == 2\n",
    "    joker = len(list(filter(lambda x: x[1] == 2, hand.items()))) == 1 and hand[\"J\"] == 1 \n",
    "    return common or joker\n",
    "\n",
    "def has_three_of_a_kind(hand):\n",
    "    hand = collections.Counter(hand)\n",
    "    js = hand[\"J\"]\n",
    "    hand.pop(\"J\", None)\n",
    "    common = len(list(filter(lambda x: x[1] == 3, hand.items()))) == 1\n",
    "    joker1 = len(list(filter(lambda x: x[1] == 2, hand.items()))) == 1 and js == 1\n",
    "    joker2 = js == 2\n",
    "    return common or joker1 or joker2\n",
    "\n",
    "def has_four_of_a_kind(hand):\n",
    "    hand = collections.Counter(hand)\n",
    "    js = hand[\"J\"]\n",
    "    hand.pop(\"J\", None)\n",
    "    common = len(list(filter(lambda x: x[1] == 4, hand.items()))) == 1\n",
    "    joker1 = len(list(filter(lambda x: x[1] == 3, hand.items()))) == 1 and js == 1\n",
    "    joker2 = len(list(filter(lambda x: x[1] == 2, hand.items()))) == 1 and js == 2\n",
    "    joker3 = js == 3\n",
    "    return common or joker1 or joker2 or joker3\n",
    "\n",
    "def has_five_of_a_kind(hand):\n",
    "    hand = collections.Counter(hand)\n",
    "    js = hand[\"J\"]\n",
    "    hand.pop(\"J\", None)\n",
    "    common =  len(list(filter(lambda x: x[1] == 5, hand.items()))) == 1\n",
    "    joker1 = len(list(filter(lambda x: x[1] == 4, hand.items()))) == 1 and js == 1\n",
    "    joker2 = len(list(filter(lambda x: x[1] == 3, hand.items()))) == 1 and js == 2\n",
    "    joker3 = len(list(filter(lambda x: x[1] == 2, hand.items()))) == 1 and js == 3\n",
    "    joker4 = js >= 4\n",
    "    return common or joker1 or joker2 or joker3 or joker4\n",
    "\n",
    "def has_full_house(hand):\n",
    "    common =  len(list(filter(lambda x: x[1] == 2, hand.items()))) == 1 and len(list(filter(lambda x: x[1] == 3, hand.items()))) == 1\n",
    "    joker1 = len(list(filter(lambda x: x[1] == 2, hand.items()))) == 2 and hand[\"J\"] == 1\n",
    "    return common or joker1\n",
    "\n",
    "def get_rank(hand):\n",
    "    hand = collections.Counter(hand)\n",
    "    if has_five_of_a_kind(hand):\n",
    "        return 1\n",
    "    elif has_four_of_a_kind(hand):\n",
    "        return 2\n",
    "    elif has_full_house(hand):\n",
    "        return 3\n",
    "    elif has_three_of_a_kind(hand):\n",
    "        return 4\n",
    "    elif has_two_pairs(hand):\n",
    "        return 5\n",
    "    elif has_pair(hand):\n",
    "        return 6\n",
    "    else:\n",
    "        return 7\n",
    "\n",
    "alphabet = \"AKQT98765432J\"\n"
   ]
  },
  {
   "cell_type": "code",
   "execution_count": 47,
   "metadata": {},
   "outputs": [
    {
     "data": {
      "text/plain": [
       "248781813"
      ]
     },
     "execution_count": 47,
     "metadata": {},
     "output_type": "execute_result"
    }
   ],
   "source": [
    "game = sorted(game, key=lambda hand: (get_rank(hand[0]),[alphabet.index(c) for c in hand[0]]), reverse=True)\n",
    "\n",
    "for i in range(len(game)):\n",
    "    game[i][2] = int(game[i][1])*(i+1)\n",
    "\n",
    "functools.reduce(lambda x, y: x+y, list(map(lambda x:x[2],game)))"
   ]
  }
 ],
 "metadata": {
  "kernelspec": {
   "display_name": "Python 3",
   "language": "python",
   "name": "python3"
  },
  "language_info": {
   "codemirror_mode": {
    "name": "ipython",
    "version": 3
   },
   "file_extension": ".py",
   "mimetype": "text/x-python",
   "name": "python",
   "nbconvert_exporter": "python",
   "pygments_lexer": "ipython3",
   "version": "3.11.7"
  }
 },
 "nbformat": 4,
 "nbformat_minor": 2
}
