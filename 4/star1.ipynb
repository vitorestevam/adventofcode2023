{
 "cells": [
  {
   "cell_type": "code",
   "execution_count": 51,
   "id": "1dc9c677-0ff4-48c1-b0c5-e3fcda7bc87a",
   "metadata": {},
   "outputs": [],
   "source": [
    "file = open(\"./input.txt\", \"r\")\n",
    "cards = file.read().split(\"\\n\")"
   ]
  },
  {
   "cell_type": "code",
   "execution_count": 53,
   "id": "a6ba5681-ca6e-4c47-8b41-1cae8895bcab",
   "metadata": {},
   "outputs": [],
   "source": [
    "parsed_cards = []\n",
    "for card in cards:\n",
    "    winning, selection = card.split(\":\")[1].split(\"|\")\n",
    "    parsed_cards.append([winning.split(), selection.split()])"
   ]
  },
  {
   "cell_type": "code",
   "execution_count": 54,
   "id": "6d2eb5f6-431c-4caf-b8ce-3eb1791430ab",
   "metadata": {},
   "outputs": [
    {
     "data": {
      "text/plain": [
       "19135"
      ]
     },
     "execution_count": 54,
     "metadata": {},
     "output_type": "execute_result"
    }
   ],
   "source": [
    "sum = 0\n",
    "for card in parsed_cards:\n",
    "    amount = len([i for i in card[0] if i in card[1]])\n",
    "    if amount > 0 :sum += 2**(amount-1)\n",
    "\n",
    "sum"
   ]
  },
  {
   "cell_type": "code",
   "execution_count": null,
   "id": "0e5a3dfa-c26d-42ac-af69-780caf127652",
   "metadata": {},
   "outputs": [],
   "source": []
  }
 ],
 "metadata": {
  "kernelspec": {
   "display_name": "Python 3 (ipykernel)",
   "language": "python",
   "name": "python3"
  },
  "language_info": {
   "codemirror_mode": {
    "name": "ipython",
    "version": 3
   },
   "file_extension": ".py",
   "mimetype": "text/x-python",
   "name": "python",
   "nbconvert_exporter": "python",
   "pygments_lexer": "ipython3",
   "version": "3.11.6"
  }
 },
 "nbformat": 4,
 "nbformat_minor": 5
}
