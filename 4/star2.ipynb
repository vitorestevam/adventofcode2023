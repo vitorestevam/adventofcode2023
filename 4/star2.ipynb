{
 "cells": [
  {
   "cell_type": "code",
   "execution_count": 21,
   "id": "29952e28-8e74-44e7-813a-93d3d9ffceac",
   "metadata": {},
   "outputs": [],
   "source": [
    "import functools "
   ]
  },
  {
   "cell_type": "code",
   "execution_count": 37,
   "id": "1dc9c677-0ff4-48c1-b0c5-e3fcda7bc87a",
   "metadata": {},
   "outputs": [],
   "source": [
    "file = open(\"./input.txt\", \"r\")\n",
    "cards = file.read().split(\"\\n\")"
   ]
  },
  {
   "cell_type": "code",
   "execution_count": 38,
   "id": "a6ba5681-ca6e-4c47-8b41-1cae8895bcab",
   "metadata": {},
   "outputs": [],
   "source": [
    "parsed_cards = []\n",
    "for card in cards:\n",
    "    winning, selection = card.split(\":\")[1].split(\"|\")\n",
    "    parsed_cards.append([winning.split(), selection.split(), 1])"
   ]
  },
  {
   "cell_type": "code",
   "execution_count": 39,
   "id": "6d2eb5f6-431c-4caf-b8ce-3eb1791430ab",
   "metadata": {},
   "outputs": [
    {
     "data": {
      "text/plain": [
       "5704953"
      ]
     },
     "execution_count": 39,
     "metadata": {},
     "output_type": "execute_result"
    }
   ],
   "source": [
    "sum = 0\n",
    "\n",
    "for i  in range(len(parsed_cards)):\n",
    "    card = parsed_cards[i]\n",
    "    amount = len([i for i in card[0] if i in card[1]])\n",
    "    for j in range(amount):\n",
    "        parsed_cards[i+j+1][2] += 1 * card[2]\n",
    "        \n",
    "for card in parsed_cards:\n",
    "    sum += card[2]\n",
    "sum"
   ]
  }
 ],
 "metadata": {
  "kernelspec": {
   "display_name": "Python 3 (ipykernel)",
   "language": "python",
   "name": "python3"
  },
  "language_info": {
   "codemirror_mode": {
    "name": "ipython",
    "version": 3
   },
   "file_extension": ".py",
   "mimetype": "text/x-python",
   "name": "python",
   "nbconvert_exporter": "python",
   "pygments_lexer": "ipython3",
   "version": "3.11.6"
  }
 },
 "nbformat": 4,
 "nbformat_minor": 5
}
