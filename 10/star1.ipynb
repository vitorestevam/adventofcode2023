{
 "cells": [
  {
   "cell_type": "code",
   "execution_count": 4,
   "metadata": {},
   "outputs": [],
   "source": [
    "#pattern (y,x)\n",
    "LEFT = (0,-1)\n",
    "RIGHT = (0,1)\n",
    "TOP = (-1,0)\n",
    "BOTTOM = (1,0)\n",
    "CENTER = (0,0)\n",
    "\n",
    "def oposite_dir(dir):\n",
    "    return (dir[0] * -1, dir[1] * -1)\n",
    "\n",
    "pipes = {\n",
    "    \"|\": [TOP, BOTTOM],\n",
    "    \"-\": [LEFT, RIGHT],\n",
    "    \"L\": [TOP, RIGHT],\n",
    "    \"J\": [TOP, LEFT],\n",
    "    \"7\": [BOTTOM, LEFT],\n",
    "    \"F\": [BOTTOM, RIGHT],\n",
    "    \".\": [CENTER, CENTER]\n",
    "}\n",
    "\n",
    "def oposite(dir1, dir2):\n",
    "    return (dir1[0] + dir2[0], dir1[1] + dir2[1]) == (0,0)\n",
    "\n",
    "def connected_pipes(direction, pipe):\n",
    "    for entry in pipe:\n",
    "        if oposite(entry, direction):\n",
    "            return True\n",
    "    return False\n"
   ]
  },
  {
   "cell_type": "code",
   "execution_count": 1,
   "metadata": {},
   "outputs": [],
   "source": [
    "input = \"\"\"F--7-\n",
    "L7J|7\n",
    "SJLL7\n",
    "|F--J\n",
    "LJ.LJ\"\"\"\n",
    "\n",
    "input = open(\"./input.txt\", \"r\").read()\n",
    "\n",
    "maze = input.split(\"\\n\")\n",
    "maze = list(map(list, maze))"
   ]
  },
  {
   "cell_type": "code",
   "execution_count": 2,
   "metadata": {},
   "outputs": [],
   "source": [
    "\n",
    "def get_beginning():\n",
    "    loc = 0\n",
    "    for y in range(len(maze)):\n",
    "        for x in range(len(maze[y])):\n",
    "            if(maze[y][x] != \"S\"): continue\n",
    "            for direction in [TOP, LEFT, BOTTOM,  RIGHT]:\n",
    "                _y = y + direction[0]\n",
    "                _x = x + direction[1]\n",
    "\n",
    "                if _x < 0 or _y < 0 or _x >= len(maze[y]) or _y >= len(maze): continue\n",
    "\n",
    "                if connected_pipes(direction, pipes[maze[_y][_x]]):\n",
    "                    loc = (_y,_x)\n",
    "                    came_from = oposite_dir(direction)\n",
    "                    break\n",
    "            \n",
    "    print(loc, came_from, maze[loc[0]][loc[1]])\n",
    "    return [loc, came_from]"
   ]
  },
  {
   "cell_type": "code",
   "execution_count": 5,
   "metadata": {},
   "outputs": [
    {
     "name": "stdout",
     "output_type": "stream",
     "text": [
      "(114, 40) (1, 0) |\n"
     ]
    },
    {
     "data": {
      "text/plain": [
       "[(114, 40), (1, 0)]"
      ]
     },
     "execution_count": 5,
     "metadata": {},
     "output_type": "execute_result"
    }
   ],
   "source": [
    "get_beginning()"
   ]
  },
  {
   "cell_type": "code",
   "execution_count": 6,
   "metadata": {},
   "outputs": [
    {
     "name": "stdout",
     "output_type": "stream",
     "text": [
      "(114, 40) (1, 0) |\n"
     ]
    },
    {
     "data": {
      "text/plain": [
       "6867.0"
      ]
     },
     "execution_count": 6,
     "metadata": {},
     "output_type": "execute_result"
    }
   ],
   "source": [
    "distance = 0\n",
    "[location, came_from] = get_beginning()\n",
    "\n",
    "while True:\n",
    "    letter = maze[location[0]][location[1]]\n",
    "    if(letter == \"S\"): break\n",
    "\n",
    "    go_to = list(filter(lambda x:x!=came_from,pipes[letter]))[0]\n",
    "\n",
    "    location = (location[0] + go_to[0], location[1] + go_to[1])\n",
    "    came_from=oposite_dir(go_to)\n",
    "    distance +=1\n",
    "\n",
    "(distance + 1) /2"
   ]
  },
  {
   "cell_type": "code",
   "execution_count": null,
   "metadata": {},
   "outputs": [],
   "source": []
  }
 ],
 "metadata": {
  "kernelspec": {
   "display_name": "Python 3",
   "language": "python",
   "name": "python3"
  },
  "language_info": {
   "codemirror_mode": {
    "name": "ipython",
    "version": 3
   },
   "file_extension": ".py",
   "mimetype": "text/x-python",
   "name": "python",
   "nbconvert_exporter": "python",
   "pygments_lexer": "ipython3",
   "version": "3.11.7"
  }
 },
 "nbformat": 4,
 "nbformat_minor": 2
}
