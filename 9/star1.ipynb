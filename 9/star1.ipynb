{
 "cells": [
  {
   "cell_type": "code",
   "execution_count": 1,
   "metadata": {},
   "outputs": [],
   "source": [
    "import functools"
   ]
  },
  {
   "cell_type": "code",
   "execution_count": 14,
   "metadata": {},
   "outputs": [],
   "source": [
    "input = \"\"\"0 3 6 9 12 15\n",
    "1 3 6 10 15 21\n",
    "10 13 16 21 30 45\"\"\"\n",
    "\n",
    "input = open(\"./input.txt\", \"r\").read()\n",
    "\n",
    "histories = input.split(\"\\n\")\n",
    "histories = list(map(lambda x: x.split(), histories))\n",
    "histories = list(map(lambda x: [list(map(int, x))], histories))\n",
    "\n",
    "for i in range(len(histories)):\n",
    "\n",
    "    while True:\n",
    "        history = histories[i][-1]\n",
    "        diff = list(map(lambda i: history[i+1]-history[i], range(len(history)-1)))\n",
    "        histories[i].append(diff)\n",
    "        \n",
    "        if all(map(lambda x: x == 0, diff)):\n",
    "            break\n",
    "        \n"
   ]
  },
  {
   "cell_type": "code",
   "execution_count": 13,
   "metadata": {},
   "outputs": [
    {
     "data": {
      "text/plain": [
       "1641934234"
      ]
     },
     "execution_count": 13,
     "metadata": {},
     "output_type": "execute_result"
    }
   ],
   "source": [
    "resp = []\n",
    "for history in histories:\n",
    "    s = 0\n",
    "    for line in history:\n",
    "        s += line[-1]\n",
    "    resp.append(s)\n",
    "\n",
    "sum(resp)"
   ]
  }
 ],
 "metadata": {
  "kernelspec": {
   "display_name": "Python 3",
   "language": "python",
   "name": "python3"
  },
  "language_info": {
   "codemirror_mode": {
    "name": "ipython",
    "version": 3
   },
   "file_extension": ".py",
   "mimetype": "text/x-python",
   "name": "python",
   "nbconvert_exporter": "python",
   "pygments_lexer": "ipython3",
   "version": "3.11.7"
  }
 },
 "nbformat": 4,
 "nbformat_minor": 2
}
