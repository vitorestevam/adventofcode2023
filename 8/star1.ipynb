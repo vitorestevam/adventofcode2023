{
 "cells": [
  {
   "cell_type": "code",
   "execution_count": 14,
   "metadata": {},
   "outputs": [],
   "source": [
    "import re"
   ]
  },
  {
   "cell_type": "code",
   "execution_count": 44,
   "metadata": {},
   "outputs": [],
   "source": [
    "input = \"\"\"LLR\n",
    "\n",
    "AAA = (BBB, BBB)\n",
    "BBB = (AAA, ZZZ)\n",
    "ZZZ = (ZZZ, ZZZ)\"\"\"\n",
    "\n",
    "input = open(\"./input.txt\", \"r\").read()\n",
    "\n",
    "instructions = input.split(\"\\n\\n\")[0].replace(\"R\", \"1\").replace(\"L\", \"0\")\n",
    "\n",
    "desert_map = {}\n",
    "for document in input.split(\"\\n\\n\")[1].split(\"\\n\"):\n",
    "    name, left, right = re.search(r\"([A-Z]{3}) = \\(([A-Z]{3}), ([A-Z]{3})\\)\", document).groups()\n",
    "    desert_map[name] = (left, right)\n"
   ]
  },
  {
   "cell_type": "code",
   "execution_count": 45,
   "metadata": {},
   "outputs": [
    {
     "name": "stdout",
     "output_type": "stream",
     "text": [
      "12361\n"
     ]
    }
   ],
   "source": [
    "index = 0\n",
    "location = \"AAA\"\n",
    "while True:\n",
    "    direction = instructions[index % len(instructions)]\n",
    "    next_location = desert_map[location][int(direction)]\n",
    "    location = next_location\n",
    "\n",
    "    # print(\"I`m in %s and i`m going %s to %s\" % (location, \"left\" if direction == \"0\" else \"right\", next_location))\n",
    "\n",
    "    index += 1\n",
    "\n",
    "    if location == \"ZZZ\":\n",
    "        break\n",
    "\n",
    "print(index)\n",
    "\n"
   ]
  }
 ],
 "metadata": {
  "kernelspec": {
   "display_name": "Python 3",
   "language": "python",
   "name": "python3"
  },
  "language_info": {
   "codemirror_mode": {
    "name": "ipython",
    "version": 3
   },
   "file_extension": ".py",
   "mimetype": "text/x-python",
   "name": "python",
   "nbconvert_exporter": "python",
   "pygments_lexer": "ipython3",
   "version": "3.11.7"
  }
 },
 "nbformat": 4,
 "nbformat_minor": 2
}
