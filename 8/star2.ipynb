{
 "cells": [
  {
   "cell_type": "code",
   "execution_count": 37,
   "metadata": {},
   "outputs": [
    {
     "name": "stdout",
     "output_type": "stream",
     "text": [
      "Requirement already satisfied: tqdm in c:\\users\\esvi178\\appdata\\local\\packages\\pythonsoftwarefoundation.python.3.11_qbz5n2kfra8p0\\localcache\\local-packages\\python311\\site-packages (4.66.1)\n",
      "Requirement already satisfied: colorama in c:\\users\\esvi178\\appdata\\local\\packages\\pythonsoftwarefoundation.python.3.11_qbz5n2kfra8p0\\localcache\\local-packages\\python311\\site-packages (from tqdm) (0.4.6)\n",
      "Note: you may need to restart the kernel to use updated packages.\n"
     ]
    },
    {
     "name": "stderr",
     "output_type": "stream",
     "text": [
      "\n",
      "[notice] A new release of pip is available: 23.2.1 -> 23.3.1\n",
      "[notice] To update, run: C:\\Users\\EsVi178\\AppData\\Local\\Microsoft\\WindowsApps\\PythonSoftwareFoundation.Python.3.11_qbz5n2kfra8p0\\python.exe -m pip install --upgrade pip\n"
     ]
    }
   ],
   "source": [
    "%pip install tqdm"
   ]
  },
  {
   "cell_type": "code",
   "execution_count": 38,
   "metadata": {},
   "outputs": [],
   "source": [
    "from tqdm import tqdm\n",
    "import re\n",
    "import math"
   ]
  },
  {
   "cell_type": "code",
   "execution_count": 39,
   "metadata": {},
   "outputs": [],
   "source": [
    "input = \"\"\"LR\n",
    "\n",
    "11A = (11B, XXX)\n",
    "11B = (XXX, 11Z)\n",
    "11Z = (11B, XXX)\n",
    "22A = (22B, XXX)\n",
    "22B = (22C, 22C)\n",
    "22C = (22Z, 22Z)\n",
    "22Z = (22B, 22B)\n",
    "XXX = (XXX, XXX)\"\"\"\n",
    "\n",
    "input = open(\"./input.txt\", \"r\").read()\n",
    "\n",
    "instructions = input.split(\"\\n\\n\")[0].replace(\"R\", \"1\").replace(\"L\", \"0\")\n",
    "\n",
    "desert_map = {}\n",
    "for document in input.split(\"\\n\\n\")[1].split(\"\\n\"):\n",
    "    name, left, right = re.search(r\"(.*) = \\((.*), (.*)\\)\", document).groups()\n",
    "    desert_map[name] = (left, right)\n"
   ]
  },
  {
   "cell_type": "code",
   "execution_count": 40,
   "metadata": {},
   "outputs": [
    {
     "data": {
      "text/plain": [
       "{'DPA': ('NBQ', 'GTR'),\n",
       " 'QLA': ('VXQ', 'RDX'),\n",
       " 'VJA': ('SCP', 'XKM'),\n",
       " 'GTA': ('XND', 'NGX'),\n",
       " 'AAA': ('GVD', 'NTL'),\n",
       " 'XQA': ('LLS', 'GVK')}"
      ]
     },
     "execution_count": 40,
     "metadata": {},
     "output_type": "execute_result"
    }
   ],
   "source": [
    "start_points = dict(filter(lambda x:x[0][-1] == 'A', desert_map.items()))\n",
    "start_points"
   ]
  },
  {
   "cell_type": "code",
   "execution_count": 41,
   "metadata": {},
   "outputs": [
    {
     "name": "stdout",
     "output_type": "stream",
     "text": [
      "[20777, 19199, 18673, 16043, 12361, 15517] 18215611419223\n"
     ]
    }
   ],
   "source": [
    "steps = []\n",
    "\n",
    "for location in start_points.keys():\n",
    "    index = 0\n",
    "    while True:\n",
    "        direction = instructions[index % len(instructions)]\n",
    "        next_location = desert_map[location][int(direction)]\n",
    "        location = next_location\n",
    "        index += 1\n",
    "\n",
    "        if location[-1] == \"Z\":\n",
    "            steps.append(index)\n",
    "            break\n",
    "print(steps, math.lcm(*steps))"
   ]
  }
 ],
 "metadata": {
  "kernelspec": {
   "display_name": "Python 3",
   "language": "python",
   "name": "python3"
  },
  "language_info": {
   "codemirror_mode": {
    "name": "ipython",
    "version": 3
   },
   "file_extension": ".py",
   "mimetype": "text/x-python",
   "name": "python",
   "nbconvert_exporter": "python",
   "pygments_lexer": "ipython3",
   "version": "3.11.7"
  }
 },
 "nbformat": 4,
 "nbformat_minor": 2
}
