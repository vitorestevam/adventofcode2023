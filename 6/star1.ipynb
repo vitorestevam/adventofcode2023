{
 "cells": [
  {
   "cell_type": "code",
   "execution_count": 17,
   "metadata": {},
   "outputs": [],
   "source": [
    "import functools \n"
   ]
  },
  {
   "cell_type": "code",
   "execution_count": 27,
   "metadata": {},
   "outputs": [],
   "source": [
    "mock = \"\"\"Time:      7  15   30\n",
    "Distance:  9  40  200\"\"\"\n",
    "\n",
    "input = mock\n",
    "\n",
    "input = \"\"\"Time:        48     93     84     66\n",
    "Distance:   261   1192   1019   1063\"\"\"\n",
    "\n",
    "times = input.split(\"\\n\")[0].split()[1:]\n",
    "distances = input.split(\"\\n\")[1].split()[1:]"
   ]
  },
  {
   "cell_type": "code",
   "execution_count": 28,
   "metadata": {},
   "outputs": [
    {
     "data": {
      "text/plain": [
       "([35, 62, 55, 11], 1312850)"
      ]
     },
     "execution_count": 28,
     "metadata": {},
     "output_type": "execute_result"
    }
   ],
   "source": [
    "response = []\n",
    "\n",
    "for i in range(len(times)):\n",
    "    time = int(times[i])\n",
    "    record = int(distances[i])\n",
    "    time = int(time)\n",
    "    amount_of_options = 0\n",
    "\n",
    "    for held in range(time):\n",
    "        remaining = time - held\n",
    "        distance = held*remaining\n",
    "        if distance > record:\n",
    "            amount_of_options += 1\n",
    "\n",
    "    response.append(amount_of_options)\n",
    "\n",
    "\n",
    "response, functools.reduce(lambda x, y: x*y, response)\n",
    "\n"
   ]
  },
  {
   "cell_type": "code",
   "execution_count": null,
   "metadata": {},
   "outputs": [],
   "source": []
  }
 ],
 "metadata": {
  "kernelspec": {
   "display_name": "Python 3",
   "language": "python",
   "name": "python3"
  },
  "language_info": {
   "codemirror_mode": {
    "name": "ipython",
    "version": 3
   },
   "file_extension": ".py",
   "mimetype": "text/x-python",
   "name": "python",
   "nbconvert_exporter": "python",
   "pygments_lexer": "ipython3",
   "version": "3.11.7"
  }
 },
 "nbformat": 4,
 "nbformat_minor": 2
}
