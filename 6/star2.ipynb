{
 "cells": [
  {
   "cell_type": "code",
   "execution_count": 10,
   "metadata": {},
   "outputs": [],
   "source": [
    "import functools \n",
    "import re"
   ]
  },
  {
   "cell_type": "code",
   "execution_count": 22,
   "metadata": {},
   "outputs": [],
   "source": [
    "mock = \"\"\"Time:      7  15   30\n",
    "Distance:  9  40  200\"\"\"\n",
    "\n",
    "input = \"\"\"Time:        48     93     84     66\n",
    "Distance:   261   1192   1019   1063\"\"\"\n",
    "\n",
    "# input = mock\n",
    "\n",
    "time = int(\"\".join(re.findall(r'\\d', input.split(\"\\n\")[0])))\n",
    "record = int(\"\".join(re.findall(r'\\d', input.split(\"\\n\")[1])))"
   ]
  },
  {
   "cell_type": "code",
   "execution_count": 23,
   "metadata": {},
   "outputs": [
    {
     "data": {
      "text/plain": [
       "36749103"
      ]
     },
     "execution_count": 23,
     "metadata": {},
     "output_type": "execute_result"
    }
   ],
   "source": [
    "amount_of_options = 0\n",
    "\n",
    "for held in range(time):\n",
    "    remaining = time - held\n",
    "    distance = held*remaining\n",
    "    if distance > record:\n",
    "        amount_of_options += 1\n",
    "\n",
    "amount_of_options\n",
    "\n"
   ]
  }
 ],
 "metadata": {
  "kernelspec": {
   "display_name": "Python 3",
   "language": "python",
   "name": "python3"
  },
  "language_info": {
   "codemirror_mode": {
    "name": "ipython",
    "version": 3
   },
   "file_extension": ".py",
   "mimetype": "text/x-python",
   "name": "python",
   "nbconvert_exporter": "python",
   "pygments_lexer": "ipython3",
   "version": "3.11.7"
  }
 },
 "nbformat": 4,
 "nbformat_minor": 2
}
