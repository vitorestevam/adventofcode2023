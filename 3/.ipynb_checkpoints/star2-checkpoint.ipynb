{
 "cells": [
  {
   "cell_type": "code",
   "execution_count": 3,
   "id": "3d74e129-6f59-48a0-827e-0a732394ee42",
   "metadata": {},
   "outputs": [],
   "source": [
    "import re"
   ]
  },
  {
   "cell_type": "code",
   "execution_count": 51,
   "id": "61288fad-7e47-424b-ac97-bfe50e6ac9af",
   "metadata": {},
   "outputs": [],
   "source": [
    "file = open(\"./input.txt\", \"r\")\n",
    "lines = file.read().split(\"\\n\")"
   ]
  },
  {
   "cell_type": "code",
   "execution_count": 52,
   "id": "16328530-6bc4-43a6-a20e-c6eca3f0005f",
   "metadata": {},
   "outputs": [
    {
     "data": {
      "text/plain": [
       "73646890"
      ]
     },
     "execution_count": 52,
     "metadata": {},
     "output_type": "execute_result"
    }
   ],
   "source": [
    "sum = 0\n",
    "\n",
    "for i in range(len(lines)):\n",
    "    line = lines[i]\n",
    "    for match in re.finditer(r'\\*', line):\n",
    "        value = match.group()\n",
    "        index = match.start() \n",
    "\n",
    "        adjacent_numbers = []\n",
    "        \n",
    "        def check_line(line):\n",
    "            for match in re.finditer(r'\\d+', line):\n",
    "                number_value = match.group()\n",
    "                start = match.start() \n",
    "                end = match.end()\n",
    "\n",
    "                if (index in range(max(start-1, 0), min(end+1,len(line)))):\n",
    "                    adjacent_numbers.append(int(number_value))\n",
    "\n",
    "        #top\n",
    "        if i > 0:\n",
    "            adjacent = check_line(lines[i-1])\n",
    "\n",
    "        # bottom\n",
    "        if i < len(lines) - 1:\n",
    "            adjacent = check_line(lines[i+1])\n",
    "\n",
    "        #  sides\n",
    "        adjacent = check_line(lines[i])\n",
    "\n",
    "        if (len(adjacent_numbers) != 2): continue\n",
    "\n",
    "        ratio = adjacent_numbers[0] * adjacent_numbers[1]\n",
    "          \n",
    "        sum += ratio\n",
    "\n",
    "sum"
   ]
  }
 ],
 "metadata": {
  "kernelspec": {
   "display_name": "Python 3 (ipykernel)",
   "language": "python",
   "name": "python3"
  },
  "language_info": {
   "codemirror_mode": {
    "name": "ipython",
    "version": 3
   },
   "file_extension": ".py",
   "mimetype": "text/x-python",
   "name": "python",
   "nbconvert_exporter": "python",
   "pygments_lexer": "ipython3",
   "version": "3.11.6"
  }
 },
 "nbformat": 4,
 "nbformat_minor": 5
}
