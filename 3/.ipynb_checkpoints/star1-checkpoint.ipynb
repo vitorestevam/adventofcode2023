{
 "cells": [
  {
   "cell_type": "code",
   "execution_count": 6,
   "id": "3d74e129-6f59-48a0-827e-0a732394ee42",
   "metadata": {},
   "outputs": [],
   "source": [
    "import re"
   ]
  },
  {
   "cell_type": "code",
   "execution_count": 31,
   "id": "61288fad-7e47-424b-ac97-bfe50e6ac9af",
   "metadata": {},
   "outputs": [],
   "source": [
    "file = open(\"./input.txt\", \"r\")\n",
    "lines = file.read().split(\"\\n\")"
   ]
  },
  {
   "cell_type": "code",
   "execution_count": 33,
   "id": "247f32a0-0177-4f15-8097-a326b56faef9",
   "metadata": {},
   "outputs": [
    {
     "data": {
      "text/plain": [
       "531932"
      ]
     },
     "execution_count": 33,
     "metadata": {},
     "output_type": "execute_result"
    }
   ],
   "source": [
    "sum = 0\n",
    "\n",
    "for i in range(len(lines)):\n",
    "    for match in re.finditer(r'\\d+', lines[i]):\n",
    "        value = match.group()\n",
    "        start = match.start() \n",
    "        end = match.end()\n",
    "\n",
    "        def check_line(line):\n",
    "            slice = line[max(start-1, 0): min(end+1,len(line))]\n",
    "            if re.search(r'(\\*|\\$|\\#|\\+|\\@|\\\\|\\/|\\%|\\-|\\=|\\&)', slice): \n",
    "                return True\n",
    "            return False\n",
    "        \n",
    "        # top\n",
    "        if i > 0:\n",
    "            if check_line(lines[i-1]):\n",
    "                sum += int(value)\n",
    "                continue\n",
    "\n",
    "        # bottom\n",
    "        if i < len(lines) - 1:\n",
    "            if check_line(lines[i+1]):\n",
    "                sum += int(value)\n",
    "                continue\n",
    "\n",
    "        # sides\n",
    "        if check_line(lines[i]):\n",
    "                sum += int(value)\n",
    "                continue\n",
    "                \n",
    "sum"
   ]
  }
 ],
 "metadata": {
  "kernelspec": {
   "display_name": "Python 3 (ipykernel)",
   "language": "python",
   "name": "python3"
  },
  "language_info": {
   "codemirror_mode": {
    "name": "ipython",
    "version": 3
   },
   "file_extension": ".py",
   "mimetype": "text/x-python",
   "name": "python",
   "nbconvert_exporter": "python",
   "pygments_lexer": "ipython3",
   "version": "3.11.6"
  }
 },
 "nbformat": 4,
 "nbformat_minor": 5
}
