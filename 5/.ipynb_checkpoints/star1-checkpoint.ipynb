{
 "cells": [
  {
   "cell_type": "code",
   "execution_count": 1,
   "id": "a80f30ed-7550-4028-be21-40914c8f6bab",
   "metadata": {},
   "outputs": [],
   "source": [
    "file = open(\"./input.txt\", \"r\")\n",
    "parsed_file = file.read().split(\"\\n\\n\")"
   ]
  },
  {
   "cell_type": "code",
   "execution_count": 2,
   "id": "c14c9df4-600b-430d-9c10-5ff1c8b579a1",
   "metadata": {},
   "outputs": [],
   "source": [
    "seeds = parsed_file[0].split(\": \")[1].split()\n",
    "maps = list(map(lambda x: x.split(\"\\n\")[1:], parsed_file[1:]))"
   ]
  },
  {
   "cell_type": "code",
   "execution_count": 4,
   "id": "7433e46c-3fb3-48e4-8473-bce2d22cb4a0",
   "metadata": {},
   "outputs": [
    {
     "name": "stdout",
     "output_type": "stream",
     "text": [
      "[1850633429, 791612154, 1127558701, 1126077204, 1736552109, 2477022144, 2274777073, 57075758, 2678336074, 2323452988, 2348684039, 59885652, 1563561834, 1859009711, 344110697, 391126635, 1197320072, 2303009217, 3904586007, 131650022] 57075758\n"
     ]
    }
   ],
   "source": [
    "value = 0\n",
    "results = []\n",
    "for seed in seeds:\n",
    "    value = int(seed)\n",
    "    for rule_map in maps:\n",
    "        for rule in rule_map:\n",
    "            rule = rule.split()\n",
    "            destination_origin = int(rule[0])\n",
    "            source_origin = int(rule[1])\n",
    "            map_range = int(rule[2])\n",
    "\n",
    "            # print(value, \"needs to fit in \", source_origin, \" and \", source_origin + map_range)\n",
    "      \n",
    "            if (value not in range(source_origin, source_origin + map_range)):\n",
    "                # print(\"skip\")\n",
    "                continue\n",
    "    \n",
    "            index = value - source_origin\n",
    "    \n",
    "            value = destination_origin + index\n",
    "            # print(\"updated to \", value)\n",
    "            break\n",
    "            \n",
    "        # print(\"\\n\")\n",
    "    results.append(value)\n",
    "    # print(\"\\n\")\n",
    "\n",
    "print(results, min(results))"
   ]
  },
  {
   "cell_type": "code",
   "execution_count": null,
   "id": "c81726c8-e509-4468-8948-e54013346197",
   "metadata": {},
   "outputs": [],
   "source": []
  }
 ],
 "metadata": {
  "kernelspec": {
   "display_name": "Python 3 (ipykernel)",
   "language": "python",
   "name": "python3"
  },
  "language_info": {
   "codemirror_mode": {
    "name": "ipython",
    "version": 3
   },
   "file_extension": ".py",
   "mimetype": "text/x-python",
   "name": "python",
   "nbconvert_exporter": "python",
   "pygments_lexer": "ipython3",
   "version": "3.11.6"
  }
 },
 "nbformat": 4,
 "nbformat_minor": 5
}
