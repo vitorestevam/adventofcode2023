{
 "cells": [
  {
   "cell_type": "code",
   "execution_count": 35,
   "id": "0753c412",
   "metadata": {},
   "outputs": [],
   "source": [
    "import sys\n",
    "import time\n",
    "from tqdm import tqdm"
   ]
  },
  {
   "cell_type": "code",
   "execution_count": 36,
   "id": "a80f30ed-7550-4028-be21-40914c8f6bab",
   "metadata": {},
   "outputs": [],
   "source": [
    "file = open(\"./input.txt\", \"r\")\n",
    "parsed_file = file.read().split(\"\\n\\n\")\n",
    "seeds = parsed_file[0].split(\": \")[1].split()\n",
    "maps = list(map(lambda x: x.split(\"\\n\")[1:], parsed_file[1:]))"
   ]
  },
  {
   "cell_type": "code",
   "execution_count": 37,
   "id": "50a3c1e0",
   "metadata": {},
   "outputs": [],
   "source": [
    "def seed_to_location(seed):\n",
    "        value = int(seed)\n",
    "        for rule_map in maps:\n",
    "                for rule in rule_map:\n",
    "                        rule = rule.split()\n",
    "                        destination_origin = int(rule[0])\n",
    "                        source_origin = int(rule[1])\n",
    "                        map_range = int(rule[2])\n",
    "\n",
    "                        if (value < source_origin or value >= source_origin + map_range):\n",
    "                                continue\n",
    "                \n",
    "                        index = value - source_origin\n",
    "                \n",
    "                        value = destination_origin + index\n",
    "                        break\n",
    "       \n",
    "        return value\n",
    "\n",
    "def location_to_seed(location):\n",
    "    value = int(location)\n",
    "    for rule_map in reversed(maps):\n",
    "        for rule in reversed(rule_map):\n",
    "            rule = rule.split()\n",
    "            destination_origin = int(rule[0])\n",
    "            source_origin = int(rule[1])\n",
    "            map_range = int(rule[2])\n",
    "    \n",
    "            # if (value in range(destination_origin, destination_origin + map_range)):\n",
    "            if (value >= destination_origin and value < destination_origin + map_range):\n",
    "                value = source_origin + (value - destination_origin)\n",
    "                break\n",
    "    return value\n",
    "\n",
    "def is_seed_valid(seed):\n",
    "    i = 0\n",
    "    while (i < len(seeds)):\n",
    "        compared_seed = int(seeds[i])\n",
    "        compared_seed_range = int(seeds[i+1])\n",
    "\n",
    "        if (seed >= compared_seed and seed <= compared_seed + compared_seed_range):\n",
    "            return True\n",
    "        \n",
    "        i+=2\n",
    "        \n",
    "    return False"
   ]
  },
  {
   "cell_type": "code",
   "execution_count": null,
   "id": "06fcdeeb",
   "metadata": {},
   "outputs": [],
   "source": [
    "#BRUTE FORCE 🦾🦾🦾🦾 (not fully validated)\n",
    "value = 9223372036854775807\n",
    "i = 0\n",
    "while (i < len(seeds)):\n",
    "    print(\"\\ncalculating seed %s of %s\" % (i/2 +1, len(seeds)/2))\n",
    "    seed_origin = int(seeds[i])\n",
    "    seed_range = int(seeds[i+1])\n",
    "\n",
    "    j = 0\n",
    "    with tqdm(total=seed_range) as pbar:\n",
    "        while j < seed_range:\n",
    "            seed = seed_origin + j           \n",
    "            new_value = seed_to_location(seed)\n",
    "            if (new_value < value):\n",
    "                    value = new_value\n",
    "            j+=1\n",
    "            pbar.update(1)\n",
    "\n",
    "    i+=2\n",
    "\n",
    "value"
   ]
  },
  {
   "cell_type": "code",
   "execution_count": 38,
   "id": "164f550e",
   "metadata": {},
   "outputs": [
    {
     "name": "stderr",
     "output_type": "stream",
     "text": [
      "  0%|          | 0/1000000000 [00:00<?, ?it/s]"
     ]
    },
    {
     "name": "stderr",
     "output_type": "stream",
     "text": [
      "  3%|▎         | 31161857/1000000000 [48:34<25:10:06, 10692.85it/s]\n"
     ]
    },
    {
     "data": {
      "text/plain": [
       "31161857"
      ]
     },
     "execution_count": 38,
     "metadata": {},
     "output_type": "execute_result"
    }
   ],
   "source": [
    "location = 0\n",
    "with tqdm(total=1000000000) as pbar:\n",
    "    while location < 1000000000:\n",
    "        proposed_seed = location_to_seed(location)\n",
    "        valid = is_seed_valid(proposed_seed)\n",
    "        # print(location, proposed_seed, valid)\n",
    "\n",
    "        if (valid):\n",
    "            break\n",
    "        location += 1\n",
    "        pbar.update(1)\n",
    "        \n",
    "location"
   ]
  }
 ],
 "metadata": {
  "kernelspec": {
   "display_name": "Python 3 (ipykernel)",
   "language": "python",
   "name": "python3"
  },
  "language_info": {
   "codemirror_mode": {
    "name": "ipython",
    "version": 3
   },
   "file_extension": ".py",
   "mimetype": "text/x-python",
   "name": "python",
   "nbconvert_exporter": "python",
   "pygments_lexer": "ipython3",
   "version": "3.11.7"
  }
 },
 "nbformat": 4,
 "nbformat_minor": 5
}
