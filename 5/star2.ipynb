{
 "cells": [
  {
   "cell_type": "code",
   "execution_count": 2,
   "id": "a80f30ed-7550-4028-be21-40914c8f6bab",
   "metadata": {},
   "outputs": [],
   "source": [
    "file = open(\"./input.txt\", \"r\")\n",
    "parsed_file = file.read().split(\"\\n\\n\")"
   ]
  },
  {
   "cell_type": "code",
   "execution_count": 3,
   "id": "c14c9df4-600b-430d-9c10-5ff1c8b579a1",
   "metadata": {},
   "outputs": [],
   "source": [
    "seeds = parsed_file[0].split(\": \")[1].split()\n",
    "maps = list(map(lambda x: x.split(\"\\n\")[1:], parsed_file[1:]))"
   ]
  },
  {
   "cell_type": "code",
   "execution_count": 8,
   "id": "8ff7bf0d-198e-4139-8d74-df6c068a0a40",
   "metadata": {},
   "outputs": [
    {
     "name": "stdout",
     "output_type": "stream",
     "text": [
      "36881621\n"
     ]
    }
   ],
   "source": [
    "real_seeds = []\n",
    "\n",
    "i = 0\n",
    "while i < 1:\n",
    "    start = int(seeds[i])\n",
    "    seed_range = int(seeds[i+1])\n",
    "\n",
    "    real_seeds += [item for item in range(start, start + seed_range)]\n",
    "    i+=2\n",
    "\n",
    "print(len(real_seeds))"
   ]
  },
  {
   "cell_type": "code",
   "execution_count": null,
   "id": "7433e46c-3fb3-48e4-8473-bce2d22cb4a0",
   "metadata": {},
   "outputs": [],
   "source": [
    "value = 0\n",
    "results = []\n",
    "for seed in real_seeds:\n",
    "    value = int(seed)\n",
    "    for rule_map in maps:\n",
    "        for rule in rule_map:\n",
    "            rule = rule.split()\n",
    "            destination_origin = int(rule[0])\n",
    "            source_origin = int(rule[1])\n",
    "            map_range = int(rule[2])\n",
    "\n",
    "            # print(value, \"needs to fit in \", source_origin, \" and \", source_origin + map_range)\n",
    "      \n",
    "            if (value not in range(source_origin, source_origin + map_range)):\n",
    "                # print(\"skip\")\n",
    "                continue\n",
    "    \n",
    "            index = value - source_origin\n",
    "    \n",
    "            value = destination_origin + index\n",
    "            # print(\"updated to \", value)\n",
    "            break\n",
    "            \n",
    "        # print(\"\\n\")\n",
    "    results.append(value)\n",
    "    # print(\"\\n\")\n",
    "\n",
    "print(len(results), min(results))"
   ]
  }
 ],
 "metadata": {
  "kernelspec": {
   "display_name": "Python 3 (ipykernel)",
   "language": "python",
   "name": "python3"
  },
  "language_info": {
   "codemirror_mode": {
    "name": "ipython",
    "version": 3
   },
   "file_extension": ".py",
   "mimetype": "text/x-python",
   "name": "python",
   "nbconvert_exporter": "python",
   "pygments_lexer": "ipython3",
   "version": "3.11.6"
  }
 },
 "nbformat": 4,
 "nbformat_minor": 5
}
